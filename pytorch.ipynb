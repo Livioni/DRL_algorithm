{
 "cells": [
  {
   "cell_type": "markdown",
   "metadata": {},
   "source": [
    "## 直接构造法\n",
    "### torch.Tensor\n",
    "通过函数torch.Tensor可以生成一个默认32位浮点数的Tensor\n",
    "相关的函数有\n",
    "1. torch.FloatTensor\n",
    "2. torch.DoubleTensor\n",
    "3. torch.ByteTensor\n",
    "4. torch.ShortTensor\n",
    "5. torch.IntTensor\n",
    "6. torch.LongTensor"
   ]
  },
  {
   "cell_type": "code",
   "execution_count": 24,
   "metadata": {},
   "outputs": [
    {
     "name": "stdout",
     "output_type": "stream",
     "text": [
      "tensor([[1.1857, 0.2526, 0.2047, 0.7831],\n",
      "        [0.0541, 0.5034, 0.0279, 0.6951]])\n",
      "tensor([[1., 3., 5., 7.],\n",
      "        [2., 4., 6., 8.]])\n",
      "tensor([])\n",
      "tensor([[1, 2, 3, 4],\n",
      "        [5, 6, 7, 8]], dtype=torch.int32)\n"
     ]
    }
   ],
   "source": [
    "import torch\n",
    "a = torch.Tensor(2,4)\n",
    "print(a)\n",
    "b = torch.Tensor([[1,3,5,7],[2,4,6,8]])\n",
    "print(b)\n",
    "c = torch.Tensor()\n",
    "print(c)\n",
    "d = torch.IntTensor([[1,2,3,4],[5,6,7,8]])\n",
    "print(d)"
   ]
  },
  {
   "cell_type": "markdown",
   "metadata": {},
   "source": [
    "### torch.zeros\n",
    "通过torch.zeros()返回一个Tensor，该Tensor维度给定且元素为0"
   ]
  },
  {
   "cell_type": "code",
   "execution_count": 25,
   "metadata": {},
   "outputs": [
    {
     "name": "stdout",
     "output_type": "stream",
     "text": [
      "tensor([[0., 0., 0., 0.],\n",
      "        [0., 0., 0., 0.]])\n"
     ]
    }
   ],
   "source": [
    "a = torch.zeros(2,4)\n",
    "print(a)"
   ]
  },
  {
   "cell_type": "markdown",
   "metadata": {},
   "source": [
    "### torch.rand\n",
    "通过函数torch.rand返回一个Tensor，该Tensor包含从区间[0,1)均匀分布中抽取的一组给定维度的随机数。"
   ]
  },
  {
   "cell_type": "code",
   "execution_count": 26,
   "metadata": {},
   "outputs": [
    {
     "name": "stdout",
     "output_type": "stream",
     "text": [
      "tensor([[0.3644, 0.7550, 0.7565, 0.5147],\n",
      "        [0.3264, 0.0635, 0.9220, 0.3137]])\n"
     ]
    }
   ],
   "source": [
    "a = torch.rand(2,4)\n",
    "print(a)"
   ]
  },
  {
   "cell_type": "markdown",
   "metadata": {},
   "source": [
    "### torch.randn\n",
    "通过函数torch.randn返回一个Tensor，包含从均值为0，方差为1的正太分布中抽取的一组给定维度的随机数。"
   ]
  },
  {
   "cell_type": "code",
   "execution_count": 27,
   "metadata": {},
   "outputs": [
    {
     "name": "stdout",
     "output_type": "stream",
     "text": [
      "tensor([[-0.2235,  0.4229,  0.4341,  0.1661],\n",
      "        [ 1.3947, -1.3803,  0.9958,  1.8589]])\n"
     ]
    }
   ],
   "source": [
    "a = torch.randn(2,4)\n",
    "print(a)"
   ]
  },
  {
   "cell_type": "markdown",
   "metadata": {},
   "source": [
    "通过函数生成的Tensor可以像Numpy一样通过索引的方式获取其中的元素，也可以改变他的值"
   ]
  },
  {
   "cell_type": "code",
   "execution_count": 28,
   "metadata": {},
   "outputs": [
    {
     "name": "stdout",
     "output_type": "stream",
     "text": [
      "tensor([[ 1,  2,  3,  4],\n",
      "        [ 5, 40,  7,  8]], dtype=torch.int32)\n"
     ]
    }
   ],
   "source": [
    "d[1,1]=40\n",
    "print(d)"
   ]
  },
  {
   "cell_type": "markdown",
   "metadata": {},
   "source": [
    "## 间接转换法\n",
    "通过Pytorch提供的numpy.ndarray与Tensor之间内部转换函数来构造所需求的Tensor\n",
    "torch.from_numpy()将Numpy数据转化为Tensor数据，\n",
    "torch.nump()可以将Tensor数据转化为Numpy数据。"
   ]
  },
  {
   "cell_type": "code",
   "execution_count": 29,
   "metadata": {},
   "outputs": [
    {
     "name": "stdout",
     "output_type": "stream",
     "text": [
      "[[1. 1. 1.]\n",
      " [1. 1. 1.]]\n",
      "[[ 1.  1.  1.]\n",
      " [ 1. 10.  1.]]\n",
      "tensor([[ 1.,  1.,  1.],\n",
      "        [ 1., 10.,  1.]])\n"
     ]
    }
   ],
   "source": [
    "import numpy as np\n",
    "a = np.ones((2,3),dtype = np.float32)\n",
    "print(a)\n",
    "b = torch.from_numpy(a)#a,b共享内存\n",
    "a[1,1] = 10\n",
    "print(a)\n",
    "print(b)"
   ]
  },
  {
   "cell_type": "markdown",
   "metadata": {},
   "source": [
    "## Tensor的转换\n",
    "## Tensor类型的转换\n",
    "可以在Tensor后面加上数据类型的方式，来改变Tensor的数据类型。"
   ]
  },
  {
   "cell_type": "code",
   "execution_count": 30,
   "metadata": {},
   "outputs": [
    {
     "name": "stdout",
     "output_type": "stream",
     "text": [
      "torch.float32\n",
      "tensor([[ 1,  1,  1],\n",
      "        [ 1, 10,  1]], dtype=torch.int32)\n"
     ]
    }
   ],
   "source": [
    "print(b.dtype)\n",
    "b = b.int()\n",
    "print(b)"
   ]
  }
 ],
 "metadata": {
  "interpreter": {
   "hash": "40d3a090f54c6569ab1632332b64b2c03c39dcf918b08424e98f38b5ae0af88f"
  },
  "kernelspec": {
   "display_name": "Python 3.9.7 64-bit ('base': conda)",
   "language": "python",
   "name": "python3"
  },
  "language_info": {
   "codemirror_mode": {
    "name": "ipython",
    "version": 3
   },
   "file_extension": ".py",
   "mimetype": "text/x-python",
   "name": "python",
   "nbconvert_exporter": "python",
   "pygments_lexer": "ipython3",
   "version": "3.9.7"
  },
  "orig_nbformat": 4
 },
 "nbformat": 4,
 "nbformat_minor": 2
}
